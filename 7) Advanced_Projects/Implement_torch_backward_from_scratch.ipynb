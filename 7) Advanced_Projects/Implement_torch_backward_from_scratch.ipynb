{
  "nbformat": 4,
  "nbformat_minor": 0,
  "metadata": {
    "colab": {
      "provenance": [],
      "authorship_tag": "ABX9TyOUwsYi6YdytICRZF1kxvqO",
      "include_colab_link": true
    },
    "kernelspec": {
      "name": "python3",
      "display_name": "Python 3"
    },
    "language_info": {
      "name": "python"
    }
  },
  "cells": [
    {
      "cell_type": "markdown",
      "metadata": {
        "id": "view-in-github",
        "colab_type": "text"
      },
      "source": [
        "<a href=\"https://colab.research.google.com/github/sujith2303/ML_From_Scratch/blob/main/7)%20Advanced_Projects/Implement_torch_backward_from_scratch.ipynb\" target=\"_parent\"><img src=\"https://colab.research.google.com/assets/colab-badge.svg\" alt=\"Open In Colab\"/></a>"
      ]
    },
    {
      "cell_type": "code",
      "execution_count": 4,
      "metadata": {
        "id": "j8jZkbdS7oI5"
      },
      "outputs": [],
      "source": [
        "import torch\n",
        "import torch.nn as nn\n",
        "import numpy as np\n"
      ]
    },
    {
      "cell_type": "code",
      "source": [
        "class optimizer:\n",
        "    def __init__(self):\n",
        "        pass\n",
        "\n",
        "    def step(self):\n",
        "        pass"
      ],
      "metadata": {
        "id": "ORHr5Mq-UZdh"
      },
      "execution_count": 5,
      "outputs": []
    },
    {
      "cell_type": "code",
      "source": [
        "class loss:\n",
        "    def __init__(self):\n",
        "        pass\n",
        "\n",
        "    def __call__(self):\n",
        "        self.forward()\n",
        "\n",
        "    def forward(self,)"
      ],
      "metadata": {
        "colab": {
          "base_uri": "https://localhost:8080/",
          "height": 106
        },
        "id": "J50MqtgAUpFC",
        "outputId": "59ded4ca-5f40-4f5d-e3d5-54c09c123466"
      },
      "execution_count": 6,
      "outputs": [
        {
          "output_type": "error",
          "ename": "SyntaxError",
          "evalue": "expected ':' (<ipython-input-6-36c342e08e9b>, line 8)",
          "traceback": [
            "\u001b[0;36m  File \u001b[0;32m\"<ipython-input-6-36c342e08e9b>\"\u001b[0;36m, line \u001b[0;32m8\u001b[0m\n\u001b[0;31m    def forward(self,)\u001b[0m\n\u001b[0m                      ^\u001b[0m\n\u001b[0;31mSyntaxError\u001b[0m\u001b[0;31m:\u001b[0m expected ':'\n"
          ]
        }
      ]
    },
    {
      "cell_type": "code",
      "source": [
        "class Module:\n",
        "    def __init__(self):\n",
        "        pass\n",
        "\n",
        "    def __call__(self,*args,**kwargs):\n",
        "        self.forward(*args,**kwargs)\n",
        "\n",
        "    def forward(self,*args,**kwargs):\n",
        "        pass\n",
        "\n",
        "class Linear(Module):\n",
        "    def __init__(self,num_inputs, num_outputs ,bias = True):\n",
        "        self.num_inputs = num_inputs\n",
        "        self.num_outputs = num_outputs\n",
        "        self.weights = torch.randn(num_outputs,num_inputs)\n",
        "        self.bias = None\n",
        "        if bias:\n",
        "            self.bias  =torch.zeros(1,num_outputs)\n",
        "\n",
        "    def forward(self,x):\n",
        "        assert x.shape[-1] == self.num_inputs , f\"shape of input must match the Layer dimension, expected {self.num_inputs} as last dim but got {x.shape[-1]}\"\n",
        "        Z = x@self.weights.T\n",
        "        if self.bias is not None:\n",
        "            Z += self.bias\n",
        "        return Z\n",
        "\n",
        "    def extra_repr(self):\n",
        "        return f\"{self.__class__.__name__}(in_features={self.num_inputs}, out_feature={self.num_outputs}, bias={self.bias is not None})\"\n"
      ],
      "metadata": {
        "id": "xSUH4T7Z7wza"
      },
      "execution_count": 7,
      "outputs": []
    },
    {
      "cell_type": "code",
      "source": [
        "l1 = Linear(5,10,True)\n",
        "l1(torch.randn(1,5))"
      ],
      "metadata": {
        "id": "2b3sTS9Fgo99"
      },
      "execution_count": 8,
      "outputs": []
    },
    {
      "cell_type": "code",
      "source": [
        "l1.weights"
      ],
      "metadata": {
        "colab": {
          "base_uri": "https://localhost:8080/"
        },
        "id": "Bt-hym3dlL60",
        "outputId": "fe157088-b110-4b6d-b31c-4f7a3822ddb0"
      },
      "execution_count": 9,
      "outputs": [
        {
          "output_type": "execute_result",
          "data": {
            "text/plain": [
              "tensor([[-1.9080, -1.2329, -2.0620,  0.2939, -0.7783],\n",
              "        [ 1.4509,  0.3962,  1.6763, -0.1402, -1.1307],\n",
              "        [-0.7119, -0.2967, -0.7034,  0.0323,  2.0184],\n",
              "        [-1.7090, -1.1872,  1.2494,  0.3735, -0.5475],\n",
              "        [-0.0273, -2.5005,  0.5388, -0.1997, -0.9286],\n",
              "        [-3.4106, -0.6048,  0.8292,  0.4648,  0.8998],\n",
              "        [ 2.0252,  0.0232, -0.2006, -0.2848, -1.4547],\n",
              "        [ 0.1626,  0.9075, -0.4427,  0.7969,  1.1720],\n",
              "        [ 1.7270, -0.8949, -0.2196, -0.8029, -0.3158],\n",
              "        [-1.0113,  0.6971,  0.4009, -1.6975,  1.4479]])"
            ]
          },
          "metadata": {},
          "execution_count": 9
        }
      ]
    },
    {
      "cell_type": "code",
      "source": [],
      "metadata": {
        "id": "dJSPR0pH7CF9"
      },
      "execution_count": null,
      "outputs": []
    },
    {
      "cell_type": "code",
      "source": [
        "import torch\n",
        "import torch.nn as nn\n",
        "l = nn.Linear(5,10)\n",
        "l"
      ],
      "metadata": {
        "colab": {
          "base_uri": "https://localhost:8080/"
        },
        "id": "3Frq8kiBeqzV",
        "outputId": "f8744a3b-5aea-40bb-e644-55d2a8b71ead"
      },
      "execution_count": 2,
      "outputs": [
        {
          "output_type": "execute_result",
          "data": {
            "text/plain": [
              "Linear(in_features=5, out_features=10, bias=True)"
            ]
          },
          "metadata": {},
          "execution_count": 2
        }
      ]
    },
    {
      "cell_type": "code",
      "source": [
        "l(torch.randn(1,5))"
      ],
      "metadata": {
        "colab": {
          "base_uri": "https://localhost:8080/"
        },
        "id": "t41PW0kUeuit",
        "outputId": "f7617d54-3587-4929-fe58-d65ee3181452"
      },
      "execution_count": 5,
      "outputs": [
        {
          "output_type": "execute_result",
          "data": {
            "text/plain": [
              "tensor([[ 0.2553, -0.6391,  0.0996,  0.6615, -0.2531, -0.1569,  0.8670, -0.8527,\n",
              "          0.4476,  0.1665]], grad_fn=<AddmmBackward0>)"
            ]
          },
          "metadata": {},
          "execution_count": 5
        }
      ]
    },
    {
      "cell_type": "code",
      "source": [],
      "metadata": {
        "id": "RyGjuhimeuln"
      },
      "execution_count": null,
      "outputs": []
    },
    {
      "cell_type": "code",
      "source": [
        "class simpleNN(Module):\n",
        "    def __init__(self,layers):\n",
        "        self.layers_dict = {f\"layer{i}\":{\"weights\":torch.randn(layers[i],layers[i+1]),\"bias\":torch.zeros(layers[i])} for i in range(len(layers))}\n",
        "\n",
        "    def forward(self,x):\n",
        "        for i in self.layers_dict:\n",
        "            x = i(x)"
      ],
      "metadata": {
        "id": "7q3mMppmV9sZ"
      },
      "execution_count": null,
      "outputs": []
    },
    {
      "cell_type": "markdown",
      "source": [
        "#### Formulea\n",
        "\n",
        "\n",
        "\n",
        "*   δ(L) = δ(loss)/δa(L) * δ(a)/δ(z(L))\n",
        "*   δW(L) = δ(L) * A(L-1).T\n",
        "*   δA(L-1) = δ(L) * W.T\n",
        "\n",
        "\n"
      ],
      "metadata": {
        "id": "3BT5O0xQ8JHY"
      }
    },
    {
      "cell_type": "code",
      "source": [
        "def initialize_weights(nx,ny):\n",
        "    return torch.randn(nx,ny),torch.zeros(nx) #weights and biases"
      ],
      "metadata": {
        "id": "SvL3bvmOOzDs"
      },
      "execution_count": null,
      "outputs": []
    },
    {
      "cell_type": "code",
      "source": [
        "def forward_prop(x,weight,bias,activation_type):\n",
        "    Z = weight*x+ b\n",
        "    if activation_type =='relu':\n",
        "        A = torch.maximum(Z,0)\n",
        "    elif activation_type == 'sigmoid':\n",
        "        A = 1/(1+torch.exp(-Z))\n",
        "    elif activation_type =='softmax':\n",
        "        A =\n",
        "    return Z,A"
      ],
      "metadata": {
        "id": "4HDi8VE7OzGB"
      },
      "execution_count": null,
      "outputs": []
    },
    {
      "cell_type": "code",
      "source": [
        "def backward_relu(A):\n",
        "    return torch.maximum(A,0)\n",
        "\n",
        "def backward_sigmoid(A):\n",
        "    return A*(1-A)"
      ],
      "metadata": {
        "id": "WIIBlJNDP3KI"
      },
      "execution_count": null,
      "outputs": []
    },
    {
      "cell_type": "code",
      "source": [
        "def backward_prop(dL_dA,activation_type,A,A_prev,weights):\n",
        "    delta = dL_dA * backward_relu(A) if activation_type=='relu' else backward_sigmoid(A)\n",
        "    dW    = delta * A_prev.T\n",
        "    db    = delta*1\n",
        "    dL_dA_prev = delta * weights.T\n",
        "    return {\"dW\":dW,\n",
        "            \"db\":db,\n",
        "            \"dL_dA_prev\":dL_dA_prev}"
      ],
      "metadata": {
        "id": "SDIraWXBOzI1"
      },
      "execution_count": null,
      "outputs": []
    },
    {
      "cell_type": "code",
      "source": [
        "class optimizer:\n",
        "    def __init__(self,parameters):\n",
        "        self.model_parameters = parameters\n",
        "\n",
        "    def step(self,)"
      ],
      "metadata": {
        "id": "4TH2udD4SB-S"
      },
      "execution_count": null,
      "outputs": []
    },
    {
      "cell_type": "code",
      "source": [
        "weights,bias = initalize_weights(nx,ny)\n",
        "Z,A = forward_prop(x,weights,bias,activation_type)\n",
        "dW,db,dA_prev = backward_prop(dL_dA_prev,activation_type,A,A_prev,weights)\n"
      ],
      "metadata": {
        "id": "62fIDaUtRhez"
      },
      "execution_count": null,
      "outputs": []
    },
    {
      "cell_type": "code",
      "source": [
        "# dL_dA intially dL_dy"
      ],
      "metadata": {
        "id": "KsrY_D32OzLI"
      },
      "execution_count": null,
      "outputs": []
    },
    {
      "cell_type": "code",
      "source": [],
      "metadata": {
        "id": "KORkEeR8OzNb"
      },
      "execution_count": null,
      "outputs": []
    },
    {
      "cell_type": "code",
      "source": [],
      "metadata": {
        "id": "SQ9pzqfiOzP8"
      },
      "execution_count": null,
      "outputs": []
    }
  ]
}