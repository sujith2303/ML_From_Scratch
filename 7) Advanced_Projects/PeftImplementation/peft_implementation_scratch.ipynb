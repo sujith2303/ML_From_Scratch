{
  "nbformat": 4,
  "nbformat_minor": 0,
  "metadata": {
    "colab": {
      "provenance": [],
      "authorship_tag": "ABX9TyM55lQH0uZ4/6TK8m4U3YjC",
      "include_colab_link": true
    },
    "kernelspec": {
      "name": "python3",
      "display_name": "Python 3"
    },
    "language_info": {
      "name": "python"
    }
  },
  "cells": [
    {
      "cell_type": "markdown",
      "metadata": {
        "id": "view-in-github",
        "colab_type": "text"
      },
      "source": [
        "<a href=\"https://colab.research.google.com/github/sujith2303/ML_From_Scratch/blob/main/7)%20Advanced_Projects/PeftImplementation/peft_implementation_scratch.ipynb\" target=\"_parent\"><img src=\"https://colab.research.google.com/assets/colab-badge.svg\" alt=\"Open In Colab\"/></a>"
      ]
    },
    {
      "cell_type": "code",
      "source": [
        "import torch.nn as nn\n",
        "import torch"
      ],
      "metadata": {
        "id": "o6vGdJwItEV2"
      },
      "execution_count": 1,
      "outputs": []
    },
    {
      "cell_type": "code",
      "source": [
        "class MLP(nn.Module):\n",
        "  def __init__(self,input_dim,output_dim,rank):\n",
        "    super().__init__()\n",
        "    self.layer = nn.Linear(input_dim,output_dim)\n",
        "    self.lora_A = nn.Parameter(torch.zeros(rank,output_dim))\n",
        "    self.lora_B = nn.Parameter(torch.zeros(input_dim,rank))\n",
        "    nn.init.normal_(self.lora_A)\n",
        "    nn.init.normal_(self.lora_B)\n",
        "  def forward(self,x):\n",
        "    return self.layer(x) + x @ self.lora_B @ self.lora_A\n",
        ""
      ],
      "metadata": {
        "id": "Lm9tFgvGtEYF"
      },
      "execution_count": 47,
      "outputs": []
    },
    {
      "cell_type": "code",
      "source": [
        "a = MLP(10,5,2)"
      ],
      "metadata": {
        "id": "g9Z7JaJFteN8"
      },
      "execution_count": 48,
      "outputs": []
    },
    {
      "cell_type": "code",
      "source": [
        "a.layer.weight.requires_grad = False\n",
        "a.layer.bias.requires_grad = False"
      ],
      "metadata": {
        "id": "q2bFtJ8euMQV"
      },
      "execution_count": 49,
      "outputs": []
    },
    {
      "cell_type": "code",
      "source": [
        "for name, param in a.named_parameters():\n",
        "  print(name,param,param.requires_grad)"
      ],
      "metadata": {
        "colab": {
          "base_uri": "https://localhost:8080/"
        },
        "id": "4GzA_DmKuevq",
        "outputId": "a45c956e-df74-43c5-f8a3-486bbac3270b"
      },
      "execution_count": 50,
      "outputs": [
        {
          "output_type": "stream",
          "name": "stdout",
          "text": [
            "lora_A Parameter containing:\n",
            "tensor([[ 0.0704,  0.6876,  2.6952,  0.4876, -1.1048],\n",
            "        [ 0.8194,  0.8655,  0.4910,  0.5457,  0.7770]], requires_grad=True) True\n",
            "lora_B Parameter containing:\n",
            "tensor([[-0.3533, -0.2863],\n",
            "        [ 0.8812, -0.7112],\n",
            "        [ 1.3064,  2.4411],\n",
            "        [-1.3770, -0.3194],\n",
            "        [-0.2807, -1.1665],\n",
            "        [ 0.3467, -0.1804],\n",
            "        [ 0.2115, -1.2617],\n",
            "        [ 1.8283, -0.0567],\n",
            "        [ 0.9864,  1.2137],\n",
            "        [ 1.2741,  0.9932]], requires_grad=True) True\n",
            "layer.weight Parameter containing:\n",
            "tensor([[ 0.0696,  0.0941, -0.2601,  0.2813,  0.2521,  0.0981,  0.0656, -0.2960,\n",
            "         -0.0392,  0.0362],\n",
            "        [ 0.3032, -0.2225,  0.0082, -0.0442, -0.2522,  0.1042,  0.1358,  0.1444,\n",
            "          0.0823, -0.2012],\n",
            "        [ 0.1838, -0.2032, -0.1282, -0.0174, -0.1534,  0.2721, -0.1783,  0.1236,\n",
            "         -0.2177,  0.0097],\n",
            "        [-0.2884, -0.1502,  0.0343,  0.2799, -0.3026, -0.0723,  0.0142,  0.0437,\n",
            "         -0.0480,  0.0276],\n",
            "        [ 0.2473,  0.1981,  0.0015,  0.0558, -0.1088,  0.2697,  0.1029, -0.2117,\n",
            "          0.1531,  0.3117]]) False\n",
            "layer.bias Parameter containing:\n",
            "tensor([-0.1228, -0.1159, -0.2262, -0.2758,  0.2284]) False\n"
          ]
        }
      ]
    },
    {
      "cell_type": "code",
      "source": [
        "a(torch.randn(10))"
      ],
      "metadata": {
        "colab": {
          "base_uri": "https://localhost:8080/"
        },
        "id": "PtGATHy8us1K",
        "outputId": "564a42c7-e6c6-4b00-ddec-0049f3c89fb4"
      },
      "execution_count": 51,
      "outputs": [
        {
          "output_type": "execute_result",
          "data": {
            "text/plain": [
              "tensor([ 0.4993, -0.0523, -4.6377, -0.5134,  3.4244], grad_fn=<AddBackward0>)"
            ]
          },
          "metadata": {},
          "execution_count": 51
        }
      ]
    },
    {
      "cell_type": "code",
      "source": [
        "loss = torch.nn.MSELoss()\n",
        "optimizer = torch.optim.Adam(a.parameters(),lr=5e-5,)"
      ],
      "metadata": {
        "id": "6PHNukDauxtQ"
      },
      "execution_count": 59,
      "outputs": []
    },
    {
      "cell_type": "code",
      "source": [
        "X = torch.ones(1,10)\n",
        "y = torch.ones(1,5)*35"
      ],
      "metadata": {
        "id": "ZtzdUnUevR8D"
      },
      "execution_count": 53,
      "outputs": []
    },
    {
      "cell_type": "code",
      "source": [
        "X,y"
      ],
      "metadata": {
        "colab": {
          "base_uri": "https://localhost:8080/"
        },
        "id": "XV77dDPtvf69",
        "outputId": "54509095-05d7-4e25-f774-7c7aabc57dcf"
      },
      "execution_count": 54,
      "outputs": [
        {
          "output_type": "execute_result",
          "data": {
            "text/plain": [
              "(tensor([[1., 1., 1., 1., 1., 1., 1., 1., 1., 1.]]),\n",
              " tensor([[35., 35., 35., 35., 35.]]))"
            ]
          },
          "metadata": {},
          "execution_count": 54
        }
      ]
    },
    {
      "cell_type": "code",
      "source": [
        "for epoch in range(2000):\n",
        "  output = a(X)\n",
        "  l = loss(output,y)\n",
        "  l.backward()\n",
        "  optimizer.step()\n",
        "  print(l)"
      ],
      "metadata": {
        "id": "gVbmrhkIvgtW"
      },
      "execution_count": null,
      "outputs": []
    },
    {
      "cell_type": "code",
      "source": [
        "a(torch.ones(10))"
      ],
      "metadata": {
        "colab": {
          "base_uri": "https://localhost:8080/"
        },
        "id": "t10eLTl5vqtK",
        "outputId": "5baa945c-ee7f-41c6-904a-3c321355536c"
      },
      "execution_count": 65,
      "outputs": [
        {
          "output_type": "execute_result",
          "data": {
            "text/plain": [
              "tensor([35.4564, 33.4413, 33.5289, 32.9141, 36.6577], grad_fn=<AddBackward0>)"
            ]
          },
          "metadata": {},
          "execution_count": 65
        }
      ]
    },
    {
      "cell_type": "code",
      "source": [
        "total = 0\n",
        "some = 0\n",
        "for i,j in a.named_parameters():\n",
        "  if j.requires_grad:\n",
        "    some+=j.numel()\n",
        "  total+=j.numel()\n",
        "print(\"Trainable parameters:-\",some/total)"
      ],
      "metadata": {
        "colab": {
          "base_uri": "https://localhost:8080/"
        },
        "id": "IF8g2TQCxrd0",
        "outputId": "e82d4809-1498-43bf-c405-9ec0198de54b"
      },
      "execution_count": 70,
      "outputs": [
        {
          "output_type": "stream",
          "name": "stdout",
          "text": [
            "Trainable parameters:- 0.35294117647058826\n"
          ]
        }
      ]
    },
    {
      "cell_type": "code",
      "source": [
        "some,total"
      ],
      "metadata": {
        "colab": {
          "base_uri": "https://localhost:8080/"
        },
        "id": "0zbWld6tyAjG",
        "outputId": "e4a6adc1-9db1-40a3-8221-0f149039e5fa"
      },
      "execution_count": 69,
      "outputs": [
        {
          "output_type": "execute_result",
          "data": {
            "text/plain": [
              "(0, 5)"
            ]
          },
          "metadata": {},
          "execution_count": 69
        }
      ]
    },
    {
      "cell_type": "code",
      "source": [
        "optimizer.state"
      ],
      "metadata": {
        "colab": {
          "base_uri": "https://localhost:8080/"
        },
        "id": "HWJM74WjwNkR",
        "outputId": "610a7f73-ba4d-4e8e-f823-ada5e4c65085"
      },
      "execution_count": 66,
      "outputs": [
        {
          "output_type": "execute_result",
          "data": {
            "text/plain": [
              "defaultdict(dict,\n",
              "            {Parameter containing:\n",
              "             tensor([[ 2.0505, -0.1295, -0.4679,  1.9876,  3.3249],\n",
              "                     [ 0.3922,  4.5915,  5.3520,  0.3100, -2.1798]], requires_grad=True): {'step': tensor(13016.),\n",
              "              'exp_avg': tensor([[ 46308.0898,  -3028.9744, -25398.5508, -34328.2109, -54617.7969],\n",
              "                      [ 25982.0488,  -4197.7524, -31718.5371, -17310.4453, -13126.2461]]),\n",
              "              'exp_avg_sq': tensor([[1.7317e+09, 9.7815e+06, 4.8879e+08, 5.8698e+08, 2.5055e+09],\n",
              "                      [5.4433e+08, 1.3326e+07, 8.8502e+08, 1.5559e+08, 1.4926e+08]])},\n",
              "             Parameter containing:\n",
              "             tensor([[ 0.7369,  0.4212],\n",
              "                     [ 1.9712, -0.0037],\n",
              "                     [ 2.3963,  3.1482],\n",
              "                     [-0.2866,  0.3880],\n",
              "                     [ 0.8094, -0.4590],\n",
              "                     [ 1.4367,  0.5270],\n",
              "                     [ 1.3016, -0.5541],\n",
              "                     [ 2.9181,  0.6507],\n",
              "                     [ 2.0764,  1.9209],\n",
              "                     [ 2.3640,  1.7005]], requires_grad=True): {'step': tensor(13016.),\n",
              "              'exp_avg': tensor([[-3259.2454,  1420.0059],\n",
              "                      [-3259.2454,  1420.0059],\n",
              "                      [-3259.2454,  1420.0059],\n",
              "                      [-3259.2454,  1420.0059],\n",
              "                      [-3259.2454,  1420.0059],\n",
              "                      [-3259.2454,  1420.0059],\n",
              "                      [-3259.2454,  1420.0059],\n",
              "                      [-3259.2454,  1420.0059],\n",
              "                      [-3259.2454,  1420.0059],\n",
              "                      [-3259.2454,  1420.0059]]),\n",
              "              'exp_avg_sq': tensor([[11473406., 12041120.],\n",
              "                      [11473406., 12041120.],\n",
              "                      [11473406., 12041120.],\n",
              "                      [11473406., 12041120.],\n",
              "                      [11473406., 12041120.],\n",
              "                      [11473406., 12041120.],\n",
              "                      [11473406., 12041120.],\n",
              "                      [11473406., 12041120.],\n",
              "                      [11473406., 12041120.],\n",
              "                      [11473406., 12041120.]])}})"
            ]
          },
          "metadata": {},
          "execution_count": 66
        }
      ]
    },
    {
      "cell_type": "markdown",
      "source": [
        "# 1.58 bit LLMs"
      ],
      "metadata": {
        "id": "TJyy__bY1cgE"
      }
    },
    {
      "cell_type": "code",
      "source": [],
      "metadata": {
        "id": "fK0A68m91mRh"
      },
      "execution_count": null,
      "outputs": []
    }
  ]
}